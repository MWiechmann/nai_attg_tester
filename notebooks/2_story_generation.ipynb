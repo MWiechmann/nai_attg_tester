{
 "cells": [
  {
   "cell_type": "markdown",
   "metadata": {},
   "source": [
    "# Story Generation"
   ]
  },
  {
   "cell_type": "code",
   "execution_count": 14,
   "metadata": {},
   "outputs": [],
   "source": [
    "# Imports\n",
    "import configparser\n",
    "import pandas as pd\n",
    "import os\n",
    "import ast"
   ]
  },
  {
   "cell_type": "code",
   "execution_count": 15,
   "metadata": {},
   "outputs": [
    {
     "name": "stdout",
     "output_type": "stream",
     "text": [
      "Prompt prefix: '[ Genre: '\n",
      "Prompt suffix: ' ]'\n"
     ]
    }
   ],
   "source": [
    "def parse_config_value(value):\n",
    "    \"\"\"Parse a config value, preserving spaces if it's a quoted string.\"\"\"\n",
    "    value = value.strip()\n",
    "    if (value.startswith(\"'\") and value.endswith(\"'\")) or \\\n",
    "       (value.startswith('\"') and value.endswith('\"')):\n",
    "        return ast.literal_eval(value)\n",
    "    return value\n",
    "\n",
    "# Read Settings\n",
    "config_file = '../config/genre_clio_settings.ini'\n",
    "config = configparser.ConfigParser()\n",
    "config.read(config_file)\n",
    "\n",
    "# Access the General Settings\n",
    "run_name = config['GENERAL']['run_name']\n",
    "auth_method = config['GENERAL']['auth_method']\n",
    "\n",
    "# Access Story Generation Settings\n",
    "prompt_prefix = parse_config_value(config['CANDIDATE GENERATION - StORY GENERATION']['prompt_prefix'])\n",
    "prompt_suffix = parse_config_value(config['CANDIDATE GENERATION - StORY GENERATION']['prompt_suffix'])\n",
    "\n",
    "print(f\"Prompt prefix: '{prompt_prefix}'\")\n",
    "print(f\"Prompt suffix: '{prompt_suffix}'\")"
   ]
  },
  {
   "cell_type": "code",
   "execution_count": 16,
   "metadata": {},
   "outputs": [
    {
     "name": "stdout",
     "output_type": "stream",
     "text": [
      "Loaded 30 candidates from ../data/genre_clio_candidates.csv\n"
     ]
    }
   ],
   "source": [
    "# Read results\n",
    "candidates_file = f'../data/{run_name}_candidates.csv'\n",
    "if os.path.exists(candidates_file):\n",
    "    df_candidates = pd.read_csv(candidates_file)\n",
    "    print(f\"Loaded {len(df_candidates)} candidates from {candidates_file}\")\n",
    "else:\n",
    "    print(f\"Error: Candidates file {candidates_file} not found.\")\n",
    "    df_candidates = pd.DataFrame(columns=['phrase'])"
   ]
  },
  {
   "cell_type": "code",
   "execution_count": 17,
   "metadata": {},
   "outputs": [
    {
     "name": "stdout",
     "output_type": "stream",
     "text": [
      "Generated 30 prompts\n",
      "\n",
      "First 5 prompts:\n",
      "Candidate: Slice of Life\n",
      "Prompt: [ Genre: Slice of Life ]\n",
      "\n",
      "Candidate: LitRPG\n",
      "Prompt: [ Genre: LitRPG ]\n",
      "\n",
      "Candidate: Adventure\n",
      "Prompt: [ Genre: Adventure ]\n",
      "\n",
      "Candidate: horror: monster\n",
      "Prompt: [ Genre: horror: monster ]\n",
      "\n",
      "Candidate: fantasy\n",
      "Prompt: [ Genre: fantasy ]\n",
      "\n"
     ]
    }
   ],
   "source": [
    "# Build list of tuples (candidate, prompt)\n",
    "prompts = [\n",
    "    (candidate, f\"{prompt_prefix}{candidate}{prompt_suffix}\")\n",
    "    for candidate in df_candidates['phrase']\n",
    "]\n",
    "\n",
    "print(f\"Generated {len(prompts)} prompts\")\n",
    "print(\"\\nFirst 5 prompts:\")\n",
    "for candidate, prompt in prompts[:5]:\n",
    "    print(f\"Candidate: {candidate}\")\n",
    "    print(f\"Prompt: {prompt}\")\n",
    "    print()"
   ]
  }
 ],
 "metadata": {
  "language_info": {
   "name": "python"
  }
 },
 "nbformat": 4,
 "nbformat_minor": 2
}
